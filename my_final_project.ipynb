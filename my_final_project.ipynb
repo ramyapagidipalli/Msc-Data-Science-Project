{
  "nbformat": 4,
  "nbformat_minor": 0,
  "metadata": {
    "colab": {
      "provenance": []
    },
    "kernelspec": {
      "name": "python3",
      "display_name": "Python 3"
    },
    "language_info": {
      "name": "python"
    }
  },
  "cells": [
    {
      "cell_type": "code",
      "execution_count": 1,
      "metadata": {
        "id": "nBOiwNc55Xfg"
      },
      "outputs": [],
      "source": [
        "# Import necessary libraries\n",
        "import pandas as pd\n",
        "import matplotlib.pyplot as plt\n",
        "import seaborn as sns"
      ]
    },
    {
      "cell_type": "code",
      "source": [
        "# Load the dataset\n",
        "df = pd.read_csv('hospital_readmissions.csv')"
      ],
      "metadata": {
        "id": "c3edGVgR60dI"
      },
      "execution_count": 2,
      "outputs": []
    },
    {
      "cell_type": "code",
      "source": [
        "# 1. Dataset Overview\n",
        "print(\"Dataset Shape:\", df.shape)\n",
        "print(\"\\nDataset Info:\")\n",
        "print(df.info())\n",
        "print(\"\\nMissing Values:\")\n",
        "print(df.isnull().sum())"
      ],
      "metadata": {
        "colab": {
          "base_uri": "https://localhost:8080/"
        },
        "id": "RJhxEMid65Rl",
        "outputId": "59e2c49f-f9f0-4aa9-ed2d-db9031d3dd74"
      },
      "execution_count": 4,
      "outputs": [
        {
          "output_type": "stream",
          "name": "stdout",
          "text": [
            "Dataset Shape: (25000, 17)\n",
            "\n",
            "Dataset Info:\n",
            "<class 'pandas.core.frame.DataFrame'>\n",
            "RangeIndex: 25000 entries, 0 to 24999\n",
            "Data columns (total 17 columns):\n",
            " #   Column             Non-Null Count  Dtype \n",
            "---  ------             --------------  ----- \n",
            " 0   age                25000 non-null  object\n",
            " 1   time_in_hospital   25000 non-null  int64 \n",
            " 2   n_lab_procedures   25000 non-null  int64 \n",
            " 3   n_procedures       25000 non-null  int64 \n",
            " 4   n_medications      25000 non-null  int64 \n",
            " 5   n_outpatient       25000 non-null  int64 \n",
            " 6   n_inpatient        25000 non-null  int64 \n",
            " 7   n_emergency        25000 non-null  int64 \n",
            " 8   medical_specialty  25000 non-null  object\n",
            " 9   diag_1             25000 non-null  object\n",
            " 10  diag_2             25000 non-null  object\n",
            " 11  diag_3             25000 non-null  object\n",
            " 12  glucose_test       25000 non-null  object\n",
            " 13  A1Ctest            25000 non-null  object\n",
            " 14  change             25000 non-null  object\n",
            " 15  diabetes_med       25000 non-null  object\n",
            " 16  readmitted         25000 non-null  object\n",
            "dtypes: int64(7), object(10)\n",
            "memory usage: 3.2+ MB\n",
            "None\n",
            "\n",
            "Missing Values:\n",
            "age                  0\n",
            "time_in_hospital     0\n",
            "n_lab_procedures     0\n",
            "n_procedures         0\n",
