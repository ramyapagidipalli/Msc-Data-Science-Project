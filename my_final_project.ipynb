{
  "nbformat": 4,
  "nbformat_minor": 0,
  "metadata": {
    "colab": {
      "provenance": []
    },
    "kernelspec": {
      "name": "python3",
      "display_name": "Python 3"
    },
    "language_info": {
      "name": "python"
    }
  },
  "cells": [
    {
      "cell_type": "code",
      "execution_count": 1,
      "metadata": {
        "id": "nBOiwNc55Xfg"
      },
      "outputs": [],
      "source": [
        "# Import necessary libraries\n",
        "import pandas as pd\n",
        "import matplotlib.pyplot as plt\n",
        "import seaborn as sns"
      ]
    },
    {
      "cell_type": "code",
      "source": [
        "# Load the dataset\n",
        "df = pd.read_csv('hospital_readmissions.csv')"
      ],
      "metadata": {
        "id": "c3edGVgR60dI"
      },
      "execution_count": 2,
      "outputs": []
    },
    {
      "cell_type": "code",
      "source": [
        "# 1. Dataset Overview\n",
        "print(\"Dataset Shape:\", df.shape)\n",
        "print(\"\\nDataset Info:\")\n",
        "print(df.info())\n",
        "print(\"\\nMissing Values:\")\n",
        "print(df.isnull().sum())"
      ],
      "metadata": {
        "colab": {
          "base_uri": "https://localhost:8080/"
        },
        "id": "RJhxEMid65Rl",
        "outputId": "d8937d30-27a9-49ea-fee9-2f345a9afe67"
      },
      "execution_count": 3,
      "outputs": [
        {
          "output_type": "stream",
          "name": "stdout",
          "text": [
            "Dataset Shape: (25000, 17)\n",
            "\n",
            "Dataset Info:\n",
            "<class 'pandas.core.frame.DataFrame'>\n",
            "RangeIndex: 25000 entries, 0 to 24999\n",
            "Data columns (total 17 columns):\n",
            " #   Column             Non-Null Count  Dtype \n",
            "---  ------             --------------  ----- \n",
            " 0   age                25000 non-null  object\n",
            " 1   time_in_hospital   25000 non-null  int64 \n",
            " 2   n_lab_procedures   25000 non-null  int64 \n",
            " 3   n_procedures       25000 non-null  int64 \n",
            " 4   n_medications      25000 non-null  int64 \n",
            " 5   n_outpatient       25000 non-null  int64 \n",
            " 6   n_inpatient        25000 non-null  int64 \n",
            " 7   n_emergency        25000 non-null  int64 \n",
            " 8   medical_specialty  25000 non-null  object\n",
            " 9   diag_1             25000 non-null  object\n",
            " 10  diag_2             25000 non-null  object\n",
            " 11  diag_3             25000 non-null  object\n",
            " 12  glucose_test       25000 non-null  object\n",
            " 13  A1Ctest            25000 non-null  object\n",
            " 14  change             25000 non-null  object\n",
            " 15  diabetes_med       25000 non-null  object\n",
            " 16  readmitted         25000 non-null  object\n",
            "dtypes: int64(7), object(10)\n",
            "memory usage: 3.2+ MB\n",
            "None\n",
            "\n",
            "Missing Values:\n",
            "age                  0\n",
            "time_in_hospital     0\n",
            "n_lab_procedures     0\n",
            "n_procedures         0\n",
            "n_medications        0\n",
            "n_outpatient         0\n",
            "n_inpatient          0\n",
            "n_emergency          0\n",
            "medical_specialty    0\n",
            "diag_1               0\n",
            "diag_2               0\n",
            "diag_3               0\n",
            "glucose_test         0\n",
            "A1Ctest              0\n",
            "change               0\n",
            "diabetes_med         0\n",
            "readmitted           0\n",
            "dtype: int64\n"
          ]
        }
      ]
    },
    {
      "cell_type": "code",
      "source": [
        "# Set Seaborn style\n",
        "sns.set_style('whitegrid')"
      ],
      "metadata": {
        "id": "3pbXUMXO7AAg"
      },
      "execution_count": 4,
      "outputs": []
    },
    {
      "cell_type": "code",
      "source": [
        "# 2. Class Distribution (readmitted)\n",
        "plt.figure(figsize=(8, 6))\n",
        "sns.countplot(x='readmitted', data=df)\n",
        "plt.title('Distribution of Readmission (Target Variable)')\n",
        "plt.xlabel('Readmitted')\n",
        "plt.ylabel('Count')\n"
      ],
      "metadata": {
        "colab": {
          "base_uri": "https://localhost:8080/",
          "height": 581
        },
        "id": "QgwSjQMD67Qt",
        "outputId": "54bca0a6-1e76-43bc-9212-9b5417ea9a44"
      },
      "execution_count": 5,
      "outputs": [
        {
          "output_type": "execute_result",
          "data": {
            "text/plain": [
              "Text(0, 0.5, 'Count')"
            ]
          },
          "metadata": {},
          "execution_count": 5
        },
        {
          "output_type": "display_data",
          "data": {
            "text/plain": [
              "<Figure size 800x600 with 1 Axes>"
            ],
            "image/png": "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\n"
          },
          "metadata": {}
        }
      ]
    },
    {
      "cell_type": "code",
      "source": [
        "# 3. Numerical Features Distribution\n",
        "numerical_cols = ['time_in_hospital', 'n_lab_procedures', 'n_procedures',\n",
        "                 'n_medications', 'n_outpatient', 'n_inpatient', 'n_emergency']\n",
        "fig, axes = plt.subplots(4, 2, figsize=(12, 16))\n",
        "axes = axes.flatten()\n",
        "for i, col in enumerate(numerical_cols):\n",
        "    sns.histplot(df[col], bins=30, ax=axes[i])\n",
        "    axes[i].set_title(f'Distribution of {col}')\n",
        "    axes[i].set_xlabel(col)\n",
        "    axes[i].set_ylabel('Count')\n",
        "plt.tight_layout()\n",
        "plt.savefig('numerical_distributions.png')\n"
      ],
      "metadata": {
        "colab": {
          "base_uri": "https://localhost:8080/",
          "height": 1000
        },
        "id": "Nsg8A1aT7PH1",
        "outputId": "99c87049-c8c9-4f28-de06-955965df6058"
      },
      "execution_count": 6,
      "outputs": [
        {
          "output_type": "display_data",
          "data": {
            "text/plain": [
              "<Figure size 1200x1600 with 8 Axes>"
            ],
            "image/png": 